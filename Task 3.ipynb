{
 "cells": [
  {
   "cell_type": "code",
   "execution_count": 37,
   "id": "7c435e17",
   "metadata": {
    "ExecuteTime": {
     "end_time": "2022-08-09T22:28:53.990071Z",
     "start_time": "2022-08-09T22:28:53.889143Z"
    }
   },
   "outputs": [
    {
     "name": "stdout",
     "output_type": "stream",
     "text": [
      "Element is present at index 3\n"
     ]
    }
   ],
   "source": [
    "# Binary Search in Recursive\n",
    "\n",
    "\n",
    "def binary_search(arr, low, high, x):\n",
    " \n",
    "\n",
    "    if high >= low:\n",
    " \n",
    "        mid = (high + low) // 2\n",
    " \n",
    "        if arr[mid] == x:\n",
    "            return mid \n",
    "\n",
    "        elif arr[mid] > x:\n",
    "            return binary_search(arr, low, mid - 1, x)\n",
    " \n",
    "        else:\n",
    "            return binary_search(arr, mid + 1, high, x)\n",
    " \n",
    "    else:\n",
    "       \n",
    "        return -1\n",
    " \n",
    "\n",
    "arr = [ 5, 6, 7, 9, 10 ]\n",
    "x = 9\n",
    " \n",
    "result = binary_search(arr, 0, len(arr)-1, x)\n",
    " \n",
    "if result != -1:\n",
    "    print(\"Element is present at index\", str(result))\n",
    "else:\n",
    "    print(\"Element is not present in array\")\n",
    "    "
   ]
  },
  {
   "cell_type": "code",
   "execution_count": 38,
   "id": "e27ac7b0",
   "metadata": {
    "ExecuteTime": {
     "end_time": "2022-08-09T22:28:57.215130Z",
     "start_time": "2022-08-09T22:28:57.165167Z"
    }
   },
   "outputs": [
    {
     "name": "stdout",
     "output_type": "stream",
     "text": [
      "Element is present at index 1\n"
     ]
    }
   ],
   "source": [
    "# Binary Search in Iterative\n",
    "\n",
    "def binary_search(arr, x):\n",
    "    low = 0\n",
    "    high = len(arr) - 1\n",
    "    mid = 0\n",
    " \n",
    "    while low <= high:\n",
    " \n",
    "        mid = (high + low) // 2\n",
    " \n",
    "        if arr[mid] < x:\n",
    "            low = mid + 1\n",
    " \n",
    "        elif arr[mid] > x:\n",
    "            high = mid - 1\n",
    " \n",
    "        else:\n",
    "            return mid\n",
    " \n",
    "    return -1\n",
    " \n",
    " \n",
    "\n",
    "arr = [ 5, 6, 7, 9, 10 ]\n",
    "x = 6\n",
    " \n",
    "result = binary_search(arr, x)\n",
    " \n",
    "if result != -1:\n",
    "    print(\"Element is present at index\", str(result))\n",
    "else:\n",
    "    print(\"Element is not present in array\")\n",
    "    "
   ]
  },
  {
   "cell_type": "code",
   "execution_count": 39,
   "id": "b013b8ec",
   "metadata": {
    "ExecuteTime": {
     "end_time": "2022-08-09T22:29:02.131194Z",
     "start_time": "2022-08-09T22:29:01.112810Z"
    }
   },
   "outputs": [
    {
     "name": "stdout",
     "output_type": "stream",
     "text": [
      "input the number 4\n",
      "The Factorial is  24\n"
     ]
    }
   ],
   "source": [
    "# Factorial in Iterative\n",
    "\n",
    "x = int(input(\"input the number \"))\n",
    "\n",
    "def fact(a):\n",
    "    b = 1\n",
    "    for i in range(a,0,-1):\n",
    "        b = b * i\n",
    "    return b\n",
    "\n",
    "print(\"The Factorial is \",fact(x))"
   ]
  },
  {
   "cell_type": "code",
   "execution_count": 41,
   "id": "dc8a5a76",
   "metadata": {
    "ExecuteTime": {
     "end_time": "2022-08-09T22:42:30.803601Z",
     "start_time": "2022-08-09T22:42:29.599542Z"
    }
   },
   "outputs": [
    {
     "name": "stdout",
     "output_type": "stream",
     "text": [
      "input the number 4\n",
      "The Factorial is  24\n"
     ]
    }
   ],
   "source": [
    "# Factorial in Recursive\n",
    "\n",
    "x = int(input(\"input the number \"))\n",
    "\n",
    "def fact(x):\n",
    "    \n",
    "    if x==0:\n",
    "        return 1\n",
    "    \n",
    "    return x*fact(x-1)\n",
    "    \n",
    "    \n",
    "print(\"The Factorial is \",fact(x))  "
   ]
  }
 ],
 "metadata": {
  "kernelspec": {
   "display_name": "Python 3",
   "language": "python",
   "name": "python3"
  },
  "language_info": {
   "codemirror_mode": {
    "name": "ipython",
    "version": 3
   },
   "file_extension": ".py",
   "mimetype": "text/x-python",
   "name": "python",
   "nbconvert_exporter": "python",
   "pygments_lexer": "ipython3",
   "version": "3.8.8"
  }
 },
 "nbformat": 4,
 "nbformat_minor": 5
}
