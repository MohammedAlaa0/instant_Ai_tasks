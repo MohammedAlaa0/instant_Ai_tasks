{
 "cells": [
  {
   "cell_type": "code",
   "execution_count": 1,
   "id": "cabab22d",
   "metadata": {
    "ExecuteTime": {
     "end_time": "2022-08-17T15:11:00.641538Z",
     "start_time": "2022-08-17T15:11:00.564583Z"
    }
   },
   "outputs": [
    {
     "name": "stdout",
     "output_type": "stream",
     "text": [
      "new information is added :\n",
      "name: Mohammed\n",
      "id: 1161270\n",
      "Mohammed information is deleted \n"
     ]
    }
   ],
   "source": [
    "class id:\n",
    "  #Constructor\n",
    "  def __init__(self,name,id_num):\n",
    "    self.name = name\n",
    "    self.id_num = id_num\n",
    "    print(\"new information is added :\\n\"+\"name: \"+name+\"\\nid: \"+id_num)\n",
    "    \n",
    "  #Deconstructor\n",
    "  def __del__(self):\n",
    "    print(self.name+\" information is deleted \")\n",
    "\n",
    "my_id = id(\"Mohammed\",\"1161270\")\n",
    "\n",
    "del my_id\n"
   ]
  }
 ],
 "metadata": {
  "kernelspec": {
   "display_name": "Python 3",
   "language": "python",
   "name": "python3"
  },
  "language_info": {
   "codemirror_mode": {
    "name": "ipython",
    "version": 3
   },
   "file_extension": ".py",
   "mimetype": "text/x-python",
   "name": "python",
   "nbconvert_exporter": "python",
   "pygments_lexer": "ipython3",
   "version": "3.8.8"
  }
 },
 "nbformat": 4,
 "nbformat_minor": 5
}
