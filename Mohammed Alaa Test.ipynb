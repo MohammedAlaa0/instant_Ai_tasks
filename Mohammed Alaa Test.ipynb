{
 "cells": [
  {
   "cell_type": "markdown",
   "id": "6a576a3d",
   "metadata": {},
   "source": [
    "### Question 1: \n",
    "\n",
    "What is AI? "
   ]
  },
  {
   "cell_type": "markdown",
   "id": "163aad5c",
   "metadata": {},
   "source": [
    "AI makes it possible for machines to learn from experience, adjust to new inputs and perform human-like tasks Using these technologies, computers can be trained to accomplish specific tasks by processing large amounts of data and recognizing patterns in the data."
   ]
  },
  {
   "cell_type": "markdown",
   "id": "d2d0fdf8",
   "metadata": {},
   "source": [
    "### Question 2: \n",
    "Why AI is used ? "
   ]
  },
  {
   "cell_type": "markdown",
   "id": "cc6832f9",
   "metadata": {},
   "source": []
  },
  {
   "cell_type": "markdown",
   "id": "218581f4",
   "metadata": {},
   "source": [
    "### Question 3:\n",
    "When to use AI ? "
   ]
  },
  {
   "cell_type": "markdown",
   "id": "1e7a0135",
   "metadata": {},
   "source": []
  },
  {
   "cell_type": "markdown",
   "id": "3a9ccfac",
   "metadata": {},
   "source": [
    "### Question 4:\n",
    "\n",
    "Define the AI pipeline"
   ]
  },
  {
   "cell_type": "code",
   "execution_count": null,
   "id": "fa39d490",
   "metadata": {},
   "outputs": [],
   "source": [
    "AI pipeline is the end-to-end construct that orchestrates the flow of data into, and output from, an AI model (or set of multiple models). It includes raw data input, features, outputs, the AI model and model parameters, and prediction outputs"
   ]
  },
  {
   "cell_type": "markdown",
   "id": "accceeb3",
   "metadata": {},
   "source": [
    "### Question 5:\n",
    "\n",
    "Define the general sequence of Software Engineering..."
   ]
  },
  {
   "cell_type": "markdown",
   "id": "28bb2b7e",
   "metadata": {},
   "source": []
  },
  {
   "cell_type": "markdown",
   "id": "a293f056",
   "metadata": {},
   "source": [
    "### Question 6: \n",
    "\n",
    "Why DivOps is one of the most used cycles in software engineering?"
   ]
  },
  {
   "cell_type": "markdown",
   "id": "d6453ecf",
   "metadata": {},
   "source": []
  },
  {
   "cell_type": "markdown",
   "id": "ac346297",
   "metadata": {},
   "source": [
    "### Question 7\n",
    "What is software Engineering ?"
   ]
  },
  {
   "cell_type": "markdown",
   "id": "4af8cd8c",
   "metadata": {},
   "source": [
    "The application of a systematic, disciplined, quantifiable approach to the development, operation, and maintenance of software; that is, the application of engineering to software"
   ]
  },
  {
   "cell_type": "markdown",
   "id": "1c2fb447",
   "metadata": {},
   "source": [
    "### Question 8\n",
    "\n",
    "Define MLOPS "
   ]
  },
  {
   "cell_type": "markdown",
   "id": "be247d87",
   "metadata": {},
   "source": [
    "MLOps stands for Machine Learning Operations. MLOps is a core function of Machine Learning engineering, focused on streamlining the process of taking machine learning models to production, and then maintaining and monitoring them."
   ]
  },
  {
   "cell_type": "markdown",
   "id": "bc99c5e6",
   "metadata": {},
   "source": [
    "### Question 9\n",
    "Define DataOps"
   ]
  },
  {
   "cell_type": "markdown",
   "id": "6c2e2d51",
   "metadata": {},
   "source": [
    "DataOps is a collaborative data management practice focused on improving the communication, integration and automation of data flows between data managers and data consumers across an organization. The goal of DataOps is to deliver value faster by creating predictable delivery and change management of data, data models and related artifacts."
   ]
  },
  {
   "cell_type": "markdown",
   "id": "02613a0f",
   "metadata": {},
   "source": [
    "### Question 10\n",
    "\n",
    "AI is ....% Data Operations , and ..... Model Creation "
   ]
  },
  {
   "cell_type": "code",
   "execution_count": null,
   "id": "ff37992c",
   "metadata": {},
   "outputs": [],
   "source": []
  },
  {
   "cell_type": "markdown",
   "id": "d4648503",
   "metadata": {},
   "source": []
  },
  {
   "cell_type": "markdown",
   "id": "a13df1ff",
   "metadata": {},
   "source": [
    "### Question 11\n",
    "\n",
    "Give 5 Examples of AI driven Companies in Egypt\n"
   ]
  },
  {
   "cell_type": "code",
   "execution_count": null,
   "id": "ab6b874f",
   "metadata": {},
   "outputs": [],
   "source": [
    "Speakol\n",
    "Z2data\n",
    "Cassbana\n",
    "EPSILON AI\n",
    "zTechnium"
   ]
  },
  {
   "cell_type": "markdown",
   "id": "8db77a51",
   "metadata": {},
   "source": []
  },
  {
   "cell_type": "markdown",
   "id": "01dbf289",
   "metadata": {
    "heading_collapsed": true
   },
   "source": [
    "### Question 12\n",
    "What are the main fields of AI in Egypt?\n"
   ]
  },
  {
   "cell_type": "code",
   "execution_count": null,
   "id": "457b1747",
   "metadata": {
    "hidden": true
   },
   "outputs": [],
   "source": [
    "Machine Learning\n",
    "Data analysis\n",
    "Computer Vision"
   ]
  },
  {
   "cell_type": "markdown",
   "id": "c5e470bd",
   "metadata": {
    "hidden": true
   },
   "source": []
  },
  {
   "cell_type": "markdown",
   "id": "c6395f95",
   "metadata": {},
   "source": [
    "### Question 13\n",
    "Define Data Science"
   ]
  },
  {
   "cell_type": "code",
   "execution_count": null,
   "id": "7db222f1",
   "metadata": {},
   "outputs": [],
   "source": [
    "Data science is the study of data to extract meaningful insights for business. It is a multidisciplinary approach that combines principles and practices from the fields of mathematics, statistics, artificial intelligence, and computer engineering to analyze large amounts of data."
   ]
  },
  {
   "cell_type": "markdown",
   "id": "d00e59fb",
   "metadata": {},
   "source": []
  },
  {
   "cell_type": "markdown",
   "id": "73bba650",
   "metadata": {},
   "source": [
    "### Question 14 \n",
    "What is the difference between Data Engineer, Data Analyst and Data Scientist "
   ]
  },
  {
   "cell_type": "code",
   "execution_count": null,
   "id": "b45ca357",
   "metadata": {},
   "outputs": [],
   "source": []
  },
  {
   "cell_type": "markdown",
   "id": "0f491cb9",
   "metadata": {},
   "source": []
  },
  {
   "cell_type": "markdown",
   "id": "1d334500",
   "metadata": {},
   "source": [
    "### Question 15\n",
    "What are the most important skills an AI Engineer must have? "
   ]
  },
  {
   "cell_type": "code",
   "execution_count": null,
   "id": "a2384067",
   "metadata": {},
   "outputs": [],
   "source": [
    "Linear algebra, Calculus, Statistics"
   ]
  },
  {
   "cell_type": "markdown",
   "id": "4a1bec93",
   "metadata": {},
   "source": []
  },
  {
   "cell_type": "markdown",
   "id": "af356a7e",
   "metadata": {},
   "source": [
    "### Question 16: ( Bonus ) \n",
    "Who is my favorite Character in My favoirte Show "
   ]
  },
  {
   "cell_type": "code",
   "execution_count": null,
   "id": "a1bd57e6",
   "metadata": {
    "ExecuteTime": {
     "end_time": "2022-03-05T16:34:27.424995Z",
     "start_time": "2022-03-05T16:34:26.968182Z"
    }
   },
   "outputs": [],
   "source": [
    "Jesse Pinkman"
   ]
  },
  {
   "cell_type": "markdown",
   "id": "c8036275",
   "metadata": {},
   "source": []
  },
  {
   "cell_type": "markdown",
   "id": "3f5f4f84",
   "metadata": {
    "heading_collapsed": true
   },
   "source": [
    "### Question 17: ( Bonus )\n",
    "What is my favorite TV Show"
   ]
  },
  {
   "cell_type": "code",
   "execution_count": null,
   "id": "c7efecc9",
   "metadata": {
    "hidden": true
   },
   "outputs": [],
   "source": [
    "Breaking Bad"
   ]
  },
  {
   "cell_type": "markdown",
   "id": "63b63b6e",
   "metadata": {
    "hidden": true
   },
   "source": []
  },
  {
   "cell_type": "markdown",
   "id": "9b32666b",
   "metadata": {},
   "source": [
    "### Question 18: \n",
    "What are the possible methods to collect our data? "
   ]
  },
  {
   "cell_type": "code",
   "execution_count": null,
   "id": "a689e0e2",
   "metadata": {},
   "outputs": [],
   "source": []
  },
  {
   "cell_type": "markdown",
   "id": "e4cd67ab",
   "metadata": {},
   "source": []
  },
  {
   "cell_type": "markdown",
   "id": "bf7d6a7d",
   "metadata": {},
   "source": [
    "### Question 19: \n",
    "What is Feature Engineering? "
   ]
  },
  {
   "cell_type": "code",
   "execution_count": null,
   "id": "6c311338",
   "metadata": {},
   "outputs": [],
   "source": [
    "Feature engineering is a machine learning technique that leverages data to create new variables that aren’t in the training set. It can produce new features for both supervised and unsupervised learning, with the goal of simplifying and speeding up data transformations while also enhancing model accuracy."
   ]
  },
  {
   "cell_type": "markdown",
   "id": "afbe1895",
   "metadata": {},
   "source": []
  },
  {
   "cell_type": "markdown",
   "id": "aa1e2ea5",
   "metadata": {},
   "source": [
    "### Question 20: \n",
    "What are the main fields of mathematics used in AI? "
   ]
  },
  {
   "cell_type": "code",
   "execution_count": null,
   "id": "2d05b460",
   "metadata": {},
   "outputs": [],
   "source": [
    "Linear algebra, Calculus, Probability and Statistics"
   ]
  },
  {
   "cell_type": "markdown",
   "id": "d13086b5",
   "metadata": {},
   "source": []
  },
  {
   "cell_type": "markdown",
   "id": "419d022b",
   "metadata": {
    "heading_collapsed": true
   },
   "source": [
    "### Question 21:\n",
    "What is Data Sampling ?"
   ]
  },
  {
   "cell_type": "code",
   "execution_count": null,
   "id": "f09d5aa6",
   "metadata": {
    "hidden": true
   },
   "outputs": [],
   "source": [
    "sampling is the practice of analyzing a subset of all data in order to uncover the meaningful information in the larger data set."
   ]
  },
  {
   "cell_type": "markdown",
   "id": "a0d37480",
   "metadata": {
    "hidden": true
   },
   "source": []
  },
  {
   "cell_type": "markdown",
   "id": "458d8ee3",
   "metadata": {
    "heading_collapsed": true
   },
   "source": [
    "### Question 22: \n",
    "What is Sample Size ?"
   ]
  },
  {
   "cell_type": "code",
   "execution_count": null,
   "id": "a990b3dd",
   "metadata": {
    "hidden": true
   },
   "outputs": [],
   "source": [
    "The number of items in a sample."
   ]
  },
  {
   "cell_type": "markdown",
   "id": "1ee986dd",
   "metadata": {
    "hidden": true
   },
   "source": []
  },
  {
   "cell_type": "markdown",
   "id": "cfe6048a",
   "metadata": {},
   "source": [
    "### Question 23: \n",
    "How to avoid bad Sampling"
   ]
  },
  {
   "cell_type": "code",
   "execution_count": null,
   "id": "03bb162f",
   "metadata": {},
   "outputs": [],
   "source": []
  },
  {
   "cell_type": "markdown",
   "id": "c77f569a",
   "metadata": {},
   "source": []
  },
  {
   "cell_type": "markdown",
   "id": "c8608601",
   "metadata": {},
   "source": [
    "### Question 24:\n",
    "What are the acceptable range of sampling ?"
   ]
  },
  {
   "cell_type": "code",
   "execution_count": null,
   "id": "c15bf59f",
   "metadata": {},
   "outputs": [],
   "source": []
  },
  {
   "cell_type": "markdown",
   "id": "65ee8f45",
   "metadata": {},
   "source": []
  },
  {
   "cell_type": "markdown",
   "id": "1061c6a1",
   "metadata": {},
   "source": [
    "### Question 25:\n",
    "What AI is trying to find when working with data? \n"
   ]
  },
  {
   "cell_type": "code",
   "execution_count": null,
   "id": "0f3724aa",
   "metadata": {},
   "outputs": [],
   "source": []
  },
  {
   "cell_type": "markdown",
   "id": "5d8494d5",
   "metadata": {},
   "source": []
  },
  {
   "cell_type": "markdown",
   "id": "8cd6d2c8",
   "metadata": {
    "heading_collapsed": true
   },
   "source": [
    "### Question 26:\n",
    "What are the problem of generalizing a result obtained by a sample into the whole data ? "
   ]
  },
  {
   "cell_type": "code",
   "execution_count": null,
   "id": "4338d489",
   "metadata": {
    "hidden": true
   },
   "outputs": [],
   "source": []
  },
  {
   "cell_type": "markdown",
   "id": "edde924c",
   "metadata": {
    "hidden": true
   },
   "source": []
  },
  {
   "cell_type": "markdown",
   "id": "d4a32a06",
   "metadata": {
    "heading_collapsed": true
   },
   "source": [
    "### Question 27:\n",
    "Why do we do Sampling?\n"
   ]
  },
  {
   "cell_type": "code",
   "execution_count": null,
   "id": "f98b20ed",
   "metadata": {
    "hidden": true
   },
   "outputs": [],
   "source": []
  },
  {
   "cell_type": "markdown",
   "id": "8c6fbb2e",
   "metadata": {
    "hidden": true
   },
   "source": []
  },
  {
   "cell_type": "markdown",
   "id": "f0f9f79b",
   "metadata": {
    "heading_collapsed": true
   },
   "source": [
    "### Question 28: \n",
    "Define Statistical Test"
   ]
  },
  {
   "cell_type": "code",
   "execution_count": null,
   "id": "f21098ff",
   "metadata": {
    "hidden": true
   },
   "outputs": [],
   "source": []
  },
  {
   "cell_type": "markdown",
   "id": "ca302926",
   "metadata": {
    "hidden": true
   },
   "source": []
  },
  {
   "cell_type": "markdown",
   "id": "8f393944",
   "metadata": {},
   "source": [
    "### Question 29: \n",
    "Suggest methods to work with small data "
   ]
  },
  {
   "cell_type": "code",
   "execution_count": null,
   "id": "368fdd6f",
   "metadata": {},
   "outputs": [],
   "source": []
  },
  {
   "cell_type": "markdown",
   "id": "e8836363",
   "metadata": {},
   "source": []
  },
  {
   "cell_type": "markdown",
   "id": "d53bbd87",
   "metadata": {
    "heading_collapsed": true
   },
   "source": [
    "### Question 30: \n",
    "What are the types of data?"
   ]
  },
  {
   "cell_type": "code",
   "execution_count": null,
   "id": "7fdcf674",
   "metadata": {
    "hidden": true
   },
   "outputs": [],
   "source": [
    "Nominal data\n",
    "Ordinal data\n",
    "Discrete data\n",
    "Continuous data"
   ]
  },
  {
   "cell_type": "markdown",
   "id": "fc32175b",
   "metadata": {
    "hidden": true
   },
   "source": []
  },
  {
   "cell_type": "markdown",
   "id": "beb6efae",
   "metadata": {},
   "source": [
    "### Question 31: \n",
    "What is a programming language?"
   ]
  },
  {
   "cell_type": "code",
   "execution_count": null,
   "id": "4583ca5a",
   "metadata": {},
   "outputs": [],
   "source": [
    "A programming language is a computer language programmers use to develop software programs, scripts, or other sets of instructions for computers to execute."
   ]
  },
  {
   "cell_type": "markdown",
   "id": "806caea0",
   "metadata": {},
   "source": []
  },
  {
   "cell_type": "markdown",
   "id": "1896fdad",
   "metadata": {
    "heading_collapsed": true
   },
   "source": [
    "### Question 32: \n",
    "Give 2 examples of low level programming languages:"
   ]
  },
  {
   "cell_type": "code",
   "execution_count": null,
   "id": "034a2bc4",
   "metadata": {
    "hidden": true
   },
   "outputs": [],
   "source": [
    "Binary Code\n",
    "Assembly languages"
   ]
  },
  {
   "cell_type": "markdown",
   "id": "9c9c369c",
   "metadata": {
    "hidden": true
   },
   "source": []
  },
  {
   "cell_type": "markdown",
   "id": "b525bbc3",
   "metadata": {
    "heading_collapsed": true
   },
   "source": [
    "### Question 33: ( Bonus ) \n",
    "What is the difference between java and JavaScript ?"
   ]
  },
  {
   "cell_type": "code",
   "execution_count": null,
   "id": "96ab6467",
   "metadata": {
    "hidden": true
   },
   "outputs": [],
   "source": []
  },
  {
   "cell_type": "markdown",
   "id": "fed2831b",
   "metadata": {
    "hidden": true
   },
   "source": []
  },
  {
   "cell_type": "markdown",
   "id": "ed01110b",
   "metadata": {
    "heading_collapsed": true
   },
   "source": [
    "### Question 34: \n",
    "Give a complete definition for python as a programming language"
   ]
  },
  {
   "cell_type": "code",
   "execution_count": null,
   "id": "f30e39e2",
   "metadata": {
    "hidden": true
   },
   "outputs": [],
   "source": []
  },
  {
   "cell_type": "markdown",
   "id": "f711f301",
   "metadata": {
    "hidden": true
   },
   "source": []
  },
  {
   "cell_type": "markdown",
   "id": "34fde1d4",
   "metadata": {
    "heading_collapsed": true
   },
   "source": [
    "### Question 35:\n",
    "Why do we use python for AI ?"
   ]
  },
  {
   "cell_type": "code",
   "execution_count": null,
   "id": "9e6cf759",
   "metadata": {
    "hidden": true
   },
   "outputs": [],
   "source": []
  },
  {
   "cell_type": "markdown",
   "id": "1d1ee1f3",
   "metadata": {
    "hidden": true
   },
   "source": []
  },
  {
   "cell_type": "markdown",
   "id": "a2eb7f45",
   "metadata": {
    "ExecuteTime": {
     "end_time": "2021-06-28T09:06:12.936819Z",
     "start_time": "2021-06-28T09:06:12.930836Z"
    },
    "heading_collapsed": true
   },
   "source": [
    "### Question 36\n",
    "What are the most used programming languages for AI in business? and Why ?  ( State only 3 )"
   ]
  },
  {
   "cell_type": "raw",
   "id": "91099d65",
   "metadata": {
    "hidden": true
   },
   "source": []
  },
  {
   "cell_type": "markdown",
   "id": "5fca80d3",
   "metadata": {
    "hidden": true
   },
   "source": []
  },
  {
   "cell_type": "markdown",
   "id": "123a198c",
   "metadata": {
    "heading_collapsed": true
   },
   "source": [
    "### Question 37: \n",
    "Can we use Simple Machine learning with image data ? and why / why not ? "
   ]
  },
  {
   "cell_type": "code",
   "execution_count": null,
   "id": "bff8fffd",
   "metadata": {
    "hidden": true
   },
   "outputs": [],
   "source": []
  },
  {
   "cell_type": "markdown",
   "id": "00eabdf2",
   "metadata": {
    "hidden": true
   },
   "source": []
  },
  {
   "cell_type": "markdown",
   "id": "fac70cf7",
   "metadata": {
    "heading_collapsed": true
   },
   "source": [
    "### Question 38: \n",
    "What are the basic data types of python ? "
   ]
  },
  {
   "cell_type": "code",
   "execution_count": null,
   "id": "0ddea37f",
   "metadata": {
    "hidden": true
   },
   "outputs": [],
   "source": []
  },
  {
   "cell_type": "markdown",
   "id": "9b68e0d6",
   "metadata": {},
   "source": [
    "### Question 39: \n",
    "What are the basic containers in python ( Data Structure Elements )"
   ]
  },
  {
   "cell_type": "markdown",
   "id": "0af292b2",
   "metadata": {},
   "source": []
  },
  {
   "cell_type": "markdown",
   "id": "5091503f",
   "metadata": {
    "heading_collapsed": true
   },
   "source": [
    "### Question 40: \n",
    "What are the most important packages for python to work with AI ? ( give at least 6 )"
   ]
  },
  {
   "cell_type": "code",
   "execution_count": null,
   "id": "e74d73b2",
   "metadata": {
    "hidden": true
   },
   "outputs": [],
   "source": []
  },
  {
   "cell_type": "markdown",
   "id": "3f2afcb7",
   "metadata": {
    "hidden": true
   },
   "source": []
  },
  {
   "cell_type": "markdown",
   "id": "04f6103a",
   "metadata": {
    "heading_collapsed": true
   },
   "source": [
    "### Question 41: \n",
    "What is knowledge domain in data science? "
   ]
  },
  {
   "cell_type": "code",
   "execution_count": null,
   "id": "4f17f256",
   "metadata": {
    "hidden": true
   },
   "outputs": [],
   "source": []
  },
  {
   "cell_type": "markdown",
   "id": "de1b2143",
   "metadata": {
    "hidden": true
   },
   "source": []
  },
  {
   "cell_type": "markdown",
   "id": "f1b27f6b",
   "metadata": {
    "heading_collapsed": true
   },
   "source": [
    "### Question 42: \n",
    "Create a list of theses elements : 1,3,4,16,17,20, \"Ahmed\", \"Mazen\", True"
   ]
  },
  {
   "cell_type": "code",
   "execution_count": 4,
   "id": "2d021853",
   "metadata": {
    "ExecuteTime": {
     "end_time": "2022-11-16T20:41:27.477335Z",
     "start_time": "2022-11-16T20:41:27.469831Z"
    },
    "hidden": true
   },
   "outputs": [],
   "source": [
    "x=[1,3,4,16,17,20, \"Ahmed\", \"Mazen\", True]"
   ]
  },
  {
   "cell_type": "markdown",
   "id": "2e9e357c",
   "metadata": {
    "hidden": true
   },
   "source": []
  },
  {
   "cell_type": "markdown",
   "id": "78f460ea",
   "metadata": {
    "heading_collapsed": true
   },
   "source": [
    "### Question 43: \n",
    "add 7 to the list "
   ]
  },
  {
   "cell_type": "code",
   "execution_count": 5,
   "id": "44555841",
   "metadata": {
    "ExecuteTime": {
     "end_time": "2022-11-16T20:41:33.709109Z",
     "start_time": "2022-11-16T20:41:33.701574Z"
    },
    "hidden": true
   },
   "outputs": [],
   "source": [
    "x.append(7)"
   ]
  },
  {
   "cell_type": "markdown",
   "id": "55792eb4",
   "metadata": {
    "hidden": true
   },
   "source": []
  },
  {
   "cell_type": "markdown",
   "id": "4a7ff235",
   "metadata": {
    "heading_collapsed": true
   },
   "source": [
    "### Question 44: \n",
    "remove 3 from the list "
   ]
  },
  {
   "cell_type": "code",
   "execution_count": 7,
   "id": "88adf65c",
   "metadata": {
    "ExecuteTime": {
     "end_time": "2022-11-16T21:01:15.511475Z",
     "start_time": "2022-11-16T21:01:15.502497Z"
    },
    "hidden": true
   },
   "outputs": [],
   "source": [
    "x.remove(3)"
   ]
  },
  {
   "cell_type": "markdown",
   "id": "2883ba26",
   "metadata": {
    "hidden": true
   },
   "source": []
  },
  {
   "cell_type": "markdown",
   "id": "dff97409",
   "metadata": {
    "heading_collapsed": true
   },
   "source": [
    "### Question 45: \n",
    "Search for \"Ahmed\" in the list "
   ]
  },
  {
   "cell_type": "code",
   "execution_count": null,
   "id": "bc9e5403",
   "metadata": {
    "ExecuteTime": {
     "end_time": "2022-11-16T21:01:20.434920Z",
     "start_time": "2022-11-16T21:01:20.426823Z"
    },
    "hidden": true
   },
   "outputs": [],
   "source": []
  },
  {
   "cell_type": "markdown",
   "id": "51bac2ab",
   "metadata": {},
   "source": [
    "### Question 46: \n",
    "Count how many numbers 4 has occured"
   ]
  },
  {
   "cell_type": "code",
   "execution_count": null,
   "id": "1c3c5b94",
   "metadata": {
    "ExecuteTime": {
     "end_time": "2022-11-16T21:02:40.097983Z",
     "start_time": "2022-11-16T21:02:39.692814Z"
    }
   },
   "outputs": [],
   "source": []
  },
  {
   "cell_type": "markdown",
   "id": "79c2ab72",
   "metadata": {},
   "source": []
  },
  {
   "cell_type": "markdown",
   "id": "668b4e21",
   "metadata": {},
   "source": [
    "### Question 47:\n",
    "print only the even numbers in the list"
   ]
  },
  {
   "cell_type": "code",
   "execution_count": null,
   "id": "c3cb6abe",
   "metadata": {
    "ExecuteTime": {
     "end_time": "2022-03-05T19:28:45.019599Z",
     "start_time": "2022-03-05T19:28:44.999611Z"
    }
   },
   "outputs": [],
   "source": []
  },
  {
   "cell_type": "markdown",
   "id": "8d3dc713",
   "metadata": {},
   "source": []
  },
  {
   "cell_type": "markdown",
   "id": "8c7c3000",
   "metadata": {
    "heading_collapsed": true
   },
   "source": [
    "### Question 48: \n",
    "Sum only the numeric elements in the list"
   ]
  },
  {
   "cell_type": "code",
   "execution_count": null,
   "id": "ed5fe114",
   "metadata": {
    "ExecuteTime": {
     "end_time": "2022-03-05T16:44:32.234027Z",
     "start_time": "2022-03-05T16:44:32.217035Z"
    }
   },
   "outputs": [],
   "source": []
  },
  {
   "cell_type": "markdown",
   "id": "e12846fa",
   "metadata": {
    "hidden": true
   },
   "source": []
  },
  {
   "cell_type": "markdown",
   "id": "54dd5ba3",
   "metadata": {
    "heading_collapsed": true
   },
   "source": [
    "### Question 49: \n",
    "convert the list into a set "
   ]
  },
  {
   "cell_type": "code",
   "execution_count": 10,
   "id": "36265fdb",
   "metadata": {
    "ExecuteTime": {
     "end_time": "2022-11-16T21:06:49.509078Z",
     "start_time": "2022-11-16T21:06:49.502042Z"
    },
    "hidden": true
   },
   "outputs": [
    {
     "data": {
      "text/plain": [
       "{1, 16, 17, 20, 4, 7, 'Ahmed', 'Mazen'}"
      ]
     },
     "execution_count": 10,
     "metadata": {},
     "output_type": "execute_result"
    }
   ],
   "source": [
    "y=set(x)\n",
    "y"
   ]
  },
  {
   "cell_type": "markdown",
   "id": "5d1818e5",
   "metadata": {
    "hidden": true
   },
   "source": []
  },
  {
   "cell_type": "markdown",
   "id": "8d10f249",
   "metadata": {
    "heading_collapsed": true
   },
   "source": [
    "### Question 50:\n",
    "change the first element to be 25 then print the new list"
   ]
  },
  {
   "cell_type": "code",
   "execution_count": 11,
   "id": "cb1fb618",
   "metadata": {
    "ExecuteTime": {
     "end_time": "2022-11-16T21:07:40.865082Z",
     "start_time": "2022-11-16T21:07:40.857047Z"
    },
    "hidden": true
   },
   "outputs": [
    {
     "name": "stdout",
     "output_type": "stream",
     "text": [
      "[25, 4, 16, 17, 20, 'Ahmed', 'Mazen', True, 7]\n"
     ]
    }
   ],
   "source": [
    "x[0]=25\n",
    "print(x)"
   ]
  },
  {
   "cell_type": "markdown",
   "id": "2d0621dc",
   "metadata": {
    "hidden": true
   },
   "source": []
  },
  {
   "cell_type": "markdown",
   "id": "7aa6a342",
   "metadata": {
    "heading_collapsed": true
   },
   "source": [
    "### Question 51: \n",
    "Assign only the first 5 values of the list into a new list called AI "
   ]
  },
  {
   "cell_type": "code",
   "execution_count": 13,
   "id": "838e6669",
   "metadata": {
    "ExecuteTime": {
     "end_time": "2022-11-16T21:09:18.770724Z",
     "start_time": "2022-11-16T21:09:18.763696Z"
    },
    "hidden": true
   },
   "outputs": [
    {
     "data": {
      "text/plain": [
       "[25, 4, 16, 17, 20]"
      ]
     },
     "execution_count": 13,
     "metadata": {},
     "output_type": "execute_result"
    }
   ],
   "source": [
    "AI=x[0:5]\n",
    "AI"
   ]
  },
  {
   "cell_type": "markdown",
   "id": "27bf1df9",
   "metadata": {
    "hidden": true
   },
   "source": []
  },
  {
   "cell_type": "markdown",
   "id": "37e50846",
   "metadata": {},
   "source": [
    "### Question 52: \n",
    "Print the type of each element ( Hint: Use for loop )"
   ]
  },
  {
   "cell_type": "code",
   "execution_count": null,
   "id": "d40f1f0e",
   "metadata": {
    "ExecuteTime": {
     "end_time": "2022-03-05T16:48:20.010017Z",
     "start_time": "2022-03-05T16:48:19.990028Z"
    }
   },
   "outputs": [],
   "source": []
  },
  {
   "cell_type": "markdown",
   "id": "d3597880",
   "metadata": {},
   "source": []
  },
  {
   "cell_type": "markdown",
   "id": "9d5e2d6b",
   "metadata": {
    "heading_collapsed": true
   },
   "source": [
    "### Question 53: \n",
    "Suppose you have a file called new data.csv , write the python code to read this data "
   ]
  },
  {
   "cell_type": "code",
   "execution_count": null,
   "id": "c5c63573",
   "metadata": {
    "ExecuteTime": {
     "end_time": "2022-03-05T16:49:47.430181Z",
     "start_time": "2022-03-05T16:49:46.450918Z"
    },
    "hidden": true
   },
   "outputs": [],
   "source": []
  },
  {
   "cell_type": "markdown",
   "id": "8e8d9a78",
   "metadata": {
    "hidden": true
   },
   "source": []
  },
  {
   "cell_type": "markdown",
   "id": "078cd393",
   "metadata": {},
   "source": [
    "### Question 54: \n",
    "print its columns "
   ]
  },
  {
   "cell_type": "code",
   "execution_count": null,
   "id": "e8245bcb",
   "metadata": {},
   "outputs": [],
   "source": []
  },
  {
   "cell_type": "markdown",
   "id": "ccd82ce2",
   "metadata": {},
   "source": []
  },
  {
   "cell_type": "markdown",
   "id": "f8403a85",
   "metadata": {
    "heading_collapsed": true
   },
   "source": [
    "### Question 55: \n",
    "What are the packages used for web scrapping? "
   ]
  },
  {
   "cell_type": "code",
   "execution_count": null,
   "id": "a4ee4b06",
   "metadata": {
    "hidden": true
   },
   "outputs": [],
   "source": [
    "BeautifulSoup\n",
    "Selenium\n",
    "Scrapy\n",
    "Requests\n",
    "Urllib"
   ]
  },
  {
   "cell_type": "markdown",
   "id": "391a035a",
   "metadata": {
    "hidden": true
   },
   "source": []
  },
  {
   "cell_type": "markdown",
   "id": "282338c7",
   "metadata": {
    "heading_collapsed": true
   },
   "source": [
    "### Question 56: \n",
    "What are the types of learning ?"
   ]
  },
  {
   "cell_type": "code",
   "execution_count": null,
   "id": "8837ce21",
   "metadata": {
    "hidden": true
   },
   "outputs": [],
   "source": [
    "supervised and unsupervised learning"
   ]
  },
  {
   "cell_type": "markdown",
   "id": "98214c9e",
   "metadata": {
    "hidden": true
   },
   "source": []
  },
  {
   "cell_type": "markdown",
   "id": "73e5ac27",
   "metadata": {
    "heading_collapsed": true
   },
   "source": [
    "### Question 57: \n",
    "What are the types of problems AI Can solve ? "
   ]
  },
  {
   "cell_type": "code",
   "execution_count": null,
   "id": "cd9426c4",
   "metadata": {
    "hidden": true
   },
   "outputs": [],
   "source": []
  },
  {
   "cell_type": "markdown",
   "id": "986332a0",
   "metadata": {
    "hidden": true
   },
   "source": []
  },
  {
   "cell_type": "markdown",
   "id": "b7c14eff",
   "metadata": {
    "ExecuteTime": {
     "end_time": "2021-06-28T09:20:22.730948Z",
     "start_time": "2021-06-28T09:20:22.715963Z"
    },
    "heading_collapsed": true
   },
   "source": [
    "### Question 58:\n",
    "What is Data Augmentation?"
   ]
  },
  {
   "cell_type": "code",
   "execution_count": null,
   "id": "deea40cd",
   "metadata": {
    "hidden": true
   },
   "outputs": [],
   "source": []
  },
  {
   "cell_type": "markdown",
   "id": "feba92a5",
   "metadata": {
    "hidden": true
   },
   "source": []
  },
  {
   "cell_type": "markdown",
   "id": "071e6ccc",
   "metadata": {
    "heading_collapsed": true
   },
   "source": [
    "### Question 59  (Bonus) : \n",
    "What are the types of medical image files?  "
   ]
  },
  {
   "cell_type": "code",
   "execution_count": null,
   "id": "8863b69d",
   "metadata": {
    "hidden": true
   },
   "outputs": [],
   "source": []
  },
  {
   "cell_type": "markdown",
   "id": "b3b8de34",
   "metadata": {
    "hidden": true
   },
   "source": []
  },
  {
   "cell_type": "markdown",
   "id": "63bb465f",
   "metadata": {},
   "source": [
    "### Question 60: ( Bonus ) \n",
    "What are the 7Vs of Big Data? "
   ]
  },
  {
   "cell_type": "markdown",
   "id": "4ce8c875",
   "metadata": {},
   "source": []
  },
  {
   "cell_type": "markdown",
   "id": "fc343b99",
   "metadata": {},
   "source": [
    "### Question 61:\n",
    "What is Dimensionality reduction"
   ]
  },
  {
   "cell_type": "code",
   "execution_count": null,
   "id": "95aeacaf",
   "metadata": {},
   "outputs": [],
   "source": []
  },
  {
   "cell_type": "markdown",
   "id": "eb206638",
   "metadata": {},
   "source": [
    "### Question 62:\n",
    "What are the main features of Time Seires Analysis"
   ]
  },
  {
   "cell_type": "code",
   "execution_count": null,
   "id": "167530d0",
   "metadata": {
    "ExecuteTime": {
     "end_time": "2022-03-05T19:33:26.627541Z",
     "start_time": "2022-03-05T19:33:26.602542Z"
    }
   },
   "outputs": [],
   "source": []
  },
  {
   "cell_type": "markdown",
   "id": "140948c5",
   "metadata": {},
   "source": [
    "### Question 62:\n",
    "you're given X,y and  \n",
    "x = [1,3,4,5,6,7,9]\n",
    "y =[1,3,2,2,3,7,9]\n",
    "z = [\"A\" , \"B\",  \"C\" , \"D\", \"E\" , \"F\" , \"G\"] \n",
    "\n",
    "create: \n",
    "1. plot chart \n",
    "2. bar chart\n",
    "3. pie chart\n"
   ]
  },
  {
   "cell_type": "code",
   "execution_count": null,
   "id": "907ebe38",
   "metadata": {
    "ExecuteTime": {
     "end_time": "2022-03-05T17:58:30.788068Z",
     "start_time": "2022-03-05T17:58:30.776073Z"
    }
   },
   "outputs": [],
   "source": []
  },
  {
   "cell_type": "markdown",
   "id": "fa480f3c",
   "metadata": {},
   "source": [
    "### Question 63: \n",
    "Read image from your directory and display it here "
   ]
  },
  {
   "cell_type": "code",
   "execution_count": null,
   "id": "61be9558",
   "metadata": {},
   "outputs": [],
   "source": []
  },
  {
   "cell_type": "markdown",
   "id": "f32912df",
   "metadata": {},
   "source": [
    "### Question 64:\n",
    "Explain Gradient Descent ( with Details ) "
   ]
  },
  {
   "cell_type": "code",
   "execution_count": null,
   "id": "bd96e858",
   "metadata": {},
   "outputs": [],
   "source": []
  },
  {
   "cell_type": "markdown",
   "id": "de6c7409",
   "metadata": {},
   "source": [
    "### Question 65:\n",
    "Create pandas dataframe as input from users\n",
    "\n",
    "name, \n",
    "age,\n",
    "id, \n",
    "gender,\n",
    "email, \n",
    "phone number, \n",
    "city,\n",
    "\n",
    "then \n",
    "\n",
    "a. group by city                       \n",
    "b. which city has the most students              \n",
    "c. get all the mails ending with @gmail.com\n",
    "d. get all vodafone phone numbers             \n",
    "e. get the average of ages for each gender               \n",
    "f. plot the relation between number of males to females           \n",
    "g. plot the relation between age and gender             "
   ]
  },
  {
   "cell_type": "code",
   "execution_count": null,
   "id": "c0aab540",
   "metadata": {},
   "outputs": [],
   "source": []
  },
  {
   "attachments": {
    "images.jpg": {
     "image/jpeg": "[encoded data removed]"
    }
   },
   "cell_type": "markdown",
   "id": "2c124077",
   "metadata": {},
   "source": [
    "### Best Wishes \n",
    "![images.jpg](attachment:images.jpg)"
   ]
  },
  {
   "cell_type": "code",
   "execution_count": null,
   "id": "61269543",
   "metadata": {},
   "outputs": [],
   "source": []
  }
 ],
 "metadata": {
  "kernelspec": {
   "display_name": "Python 3 (ipykernel)",
   "language": "python",
   "name": "python3"
  },
  "language_info": {
   "codemirror_mode": {
    "name": "ipython",
    "version": 3
   },
   "file_extension": ".py",
   "mimetype": "text/x-python",
   "name": "python",
   "nbconvert_exporter": "python",
   "pygments_lexer": "ipython3",
   "version": "3.9.12"
  },
  "toc": {
   "base_numbering": 1,
   "nav_menu": {},
   "number_sections": false,
   "sideBar": true,
   "skip_h1_title": false,
   "title_cell": "Table of Contents",
   "title_sidebar": "Contents",
   "toc_cell": false,
   "toc_position": {
    "height": "calc(100% - 180px)",
    "left": "10px",
    "top": "150px",
    "width": "165px"
   },
   "toc_section_display": true,
   "toc_window_display": false
  },
  "varInspector": {
   "cols": {
    "lenName": 16,
    "lenType": 16,
    "lenVar": 40
   },
   "kernels_config": {
    "python": {
     "delete_cmd_postfix": "",
     "delete_cmd_prefix": "del ",
     "library": "var_list.py",
     "varRefreshCmd": "print(var_dic_list())"
    },
    "r": {
     "delete_cmd_postfix": ") ",
     "delete_cmd_prefix": "rm(",
     "library": "var_list.r",
     "varRefreshCmd": "cat(var_dic_list()) "
    }
   },
   "types_to_exclude": [
    "module",
    "function",
    "builtin_function_or_method",
    "instance",
    "_Feature"
   ],
   "window_display": false
  }
 },
 "nbformat": 4,
 "nbformat_minor": 5
}
