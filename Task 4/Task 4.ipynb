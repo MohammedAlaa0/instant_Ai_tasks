{
 "cells": [
  {
   "cell_type": "code",
   "execution_count": 1,
   "id": "966e71a2",
   "metadata": {
    "ExecuteTime": {
     "end_time": "2022-08-13T18:03:50.902898Z",
     "start_time": "2022-08-13T18:03:50.876798Z"
    }
   },
   "outputs": [
    {
     "name": "stdout",
     "output_type": "stream",
     "text": [
      "Max is  110\n",
      "The Factorial is  40320\n"
     ]
    }
   ],
   "source": [
    "import task_lib as tl\n",
    "\n",
    "tl.max_num(98,78,110)\n",
    "\n",
    "tl.fact(8)"
   ]
  },
  {
   "cell_type": "code",
   "execution_count": null,
   "id": "ce41fb08",
   "metadata": {},
   "outputs": [],
   "source": []
  }
 ],
 "metadata": {
  "kernelspec": {
   "display_name": "Python 3",
   "language": "python",
   "name": "python3"
  },
  "language_info": {
   "codemirror_mode": {
    "name": "ipython",
    "version": 3
   },
   "file_extension": ".py",
   "mimetype": "text/x-python",
   "name": "python",
   "nbconvert_exporter": "python",
   "pygments_lexer": "ipython3",
   "version": "3.8.8"
  }
 },
 "nbformat": 4,
 "nbformat_minor": 5
}
