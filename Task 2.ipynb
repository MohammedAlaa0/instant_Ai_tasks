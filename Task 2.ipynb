{
 "cells": [
  {
   "cell_type": "code",
   "execution_count": 11,
   "id": "fab5d73b",
   "metadata": {
    "ExecuteTime": {
     "end_time": "2022-08-07T14:28:31.114526Z",
     "start_time": "2022-08-07T14:28:31.073544Z"
    }
   },
   "outputs": [
    {
     "name": "stdout",
     "output_type": "stream",
     "text": [
      "[1505, 1540, 1575, 1610, 1645, 1680, 1715, 1750, 1785, 1820, 1855, 1890, 1925, 1960, 1995, 2030, 2065, 2100, 2135, 2170, 2205, 2240, 2275, 2310, 2345, 2380, 2415, 2450, 2485, 2520, 2555, 2590, 2625, 2660, 2695]\n"
     ]
    }
   ],
   "source": [
    "#1\n",
    "\n",
    "x=[]\n",
    "\n",
    "for y in range(1500, 2701):\n",
    "    if (y%7==0) and (y%5==0):\n",
    "        x.append(y)\n",
    "print (x)\n"
   ]
  },
  {
   "cell_type": "code",
   "execution_count": 14,
   "id": "9a84af51",
   "metadata": {
    "ExecuteTime": {
     "end_time": "2022-08-07T14:29:19.449260Z",
     "start_time": "2022-08-07T14:29:15.917840Z"
    }
   },
   "outputs": [
    {
     "name": "stdout",
     "output_type": "stream",
     "text": [
      "To Convert Celsius to Fahrenheit type 1 \n",
      "To Convert Fahrenheit to Celsius type 2\n",
      " 1\n",
      "Temperature in Celsius = 25\n",
      "Temperature in Fahrenheit =  77.0\n"
     ]
    }
   ],
   "source": [
    "#2\n",
    "\n",
    "x = int(input(\"To Convert Celsius to Fahrenheit type 1 \\nTo Convert Fahrenheit to Celsius type 2\\n \"))\n",
    "\n",
    "if x == 1:\n",
    "    y = float(input(\"Temperature in Celsius = \"))\n",
    "    print(\"Temperature in Fahrenheit = \",y*(9/5)+32)\n",
    "elif x == 2 :\n",
    "        z = float(input(\"temperature in fahrenheit = \"))\n",
    "        print(\"Temperature in Celsius = \",(z-32)*(5/9))\n",
    "else:\n",
    "    print(\"try again\")\n",
    "    "
   ]
  },
  {
   "cell_type": "code",
   "execution_count": 15,
   "id": "3d4013c8",
   "metadata": {
    "ExecuteTime": {
     "end_time": "2022-08-07T14:29:35.000144Z",
     "start_time": "2022-08-07T14:29:34.892148Z"
    }
   },
   "outputs": [
    {
     "name": "stdout",
     "output_type": "stream",
     "text": [
      "* \r\n",
      "* * \r\n",
      "* * * \r\n",
      "* * * * \r\n",
      "* * * * * \r\n",
      "* * * * \r\n",
      "* * * \r\n",
      "* * \r\n",
      "* \r\n",
      "\r\n"
     ]
    }
   ],
   "source": [
    "#3\n",
    "\n",
    "x = 5\n",
    "\n",
    "for y in range(0, x):\n",
    "    for z in range(0, y + 1):\n",
    "        print(\"*\", end=\" \")\n",
    "    print(\"\\r\")\n",
    "\n",
    "for y in range(x, 0, -1):\n",
    "    for z in range(0, y - 1):\n",
    "        print(\"*\", end=\" \")\n",
    "    print(\"\\r\")"
   ]
  },
  {
   "cell_type": "code",
   "execution_count": 10,
   "id": "b0777ce3",
   "metadata": {
    "ExecuteTime": {
     "end_time": "2022-08-07T14:28:16.449479Z",
     "start_time": "2022-08-07T14:28:12.239433Z"
    }
   },
   "outputs": [
    {
     "name": "stdout",
     "output_type": "stream",
     "text": [
      "mohammed\n",
      "demmahom"
     ]
    }
   ],
   "source": [
    "#4\n",
    "\n",
    "x = list(input())\n",
    "\n",
    "for i in range(len(x)-1,-1,-1):\n",
    "    print(x[i],end=\"\")\n"
   ]
  },
  {
   "cell_type": "code",
   "execution_count": 6,
   "id": "e2bdf114",
   "metadata": {
    "ExecuteTime": {
     "end_time": "2022-08-07T14:19:01.897049Z",
     "start_time": "2022-08-07T14:18:51.250079Z"
    }
   },
   "outputs": [
    {
     "name": "stdout",
     "output_type": "stream",
     "text": [
      "First Number = 9\n",
      "Second Number = 3\n",
      "Third Number = 6\n",
      "Max is  9\n"
     ]
    }
   ],
   "source": [
    "#5\n",
    "\n",
    "a = int(input(\"First Number = \"))\n",
    "b = int(input(\"Second Number = \"))\n",
    "c = int(input(\"Third Number = \"))\n",
    "\n",
    "def max_num(a,b,c):\n",
    "    if a>b and a>c:\n",
    "        return print(\"Max is \",a)\n",
    "    elif b>a and b>c:\n",
    "        return print(\"Max is \",b)\n",
    "    elif c>a and c>b:\n",
    "        return print(\"Max is \",c)\n",
    "    \n",
    "max_num(a,b,c)"
   ]
  },
  {
   "cell_type": "code",
   "execution_count": 8,
   "id": "1fdbaeb7",
   "metadata": {
    "ExecuteTime": {
     "end_time": "2022-08-07T14:20:04.480291Z",
     "start_time": "2022-08-07T14:20:04.441312Z"
    }
   },
   "outputs": [
    {
     "name": "stdout",
     "output_type": "stream",
     "text": [
      "38\n"
     ]
    }
   ],
   "source": [
    "#6\n",
    "\n",
    "x = [2,6,9,10,4,7]\n",
    "\n",
    "def sum_all(a):\n",
    "    sum_a = 0\n",
    "    for i in range(0,len(a)):\n",
    "        sum_a = sum_a + a[i]\n",
    "    return print(sum_a)\n",
    "\n",
    "sum_all(x)"
   ]
  },
  {
   "cell_type": "code",
   "execution_count": 25,
   "id": "73b4b888",
   "metadata": {
    "ExecuteTime": {
     "end_time": "2022-08-05T18:06:27.320321Z",
     "start_time": "2022-08-05T18:06:27.291335Z"
    }
   },
   "outputs": [
    {
     "name": "stdout",
     "output_type": "stream",
     "text": [
      "0\n",
      "1\n",
      "2\n",
      "4\n",
      "5\n"
     ]
    }
   ],
   "source": [
    "#7\n",
    "\n",
    "for x in range(0,7):\n",
    "\n",
    "    if x == 3 or x == 6:\n",
    "        continue\n",
    "    print(x)\n"
   ]
  },
  {
   "cell_type": "code",
   "execution_count": 1,
   "id": "cd35aff1",
   "metadata": {
    "ExecuteTime": {
     "end_time": "2022-08-07T14:54:09.867232Z",
     "start_time": "2022-08-07T14:54:06.736803Z"
    }
   },
   "outputs": [
    {
     "name": "stdout",
     "output_type": "stream",
     "text": [
      "input the number 5\n",
      "The Factorial is  120\n"
     ]
    }
   ],
   "source": [
    "#8\n",
    "\n",
    "x = int(input(\"input the number \"))\n",
    "\n",
    "def fact(a):\n",
    "    b = 1\n",
    "    for i in range(a,0,-1):\n",
    "        b = b * i\n",
    "    return b\n",
    "\n",
    "print(\"The Factorial is \",fact(x))"
   ]
  },
  {
   "cell_type": "code",
   "execution_count": 18,
   "id": "7767c7ac",
   "metadata": {
    "ExecuteTime": {
     "end_time": "2022-08-07T14:42:41.234919Z",
     "start_time": "2022-08-07T14:42:41.189942Z"
    }
   },
   "outputs": [
    {
     "name": "stdout",
     "output_type": "stream",
     "text": [
      "[1, 2, 'a', 4, 5, 6, 'm', 7, 8, 9]\n"
     ]
    }
   ],
   "source": [
    "#9\n",
    "\n",
    "x=[1,1,2,2,\"a\",\"a\",4,5,6,\"m\",\"m\",7,8,9]\n",
    "\n",
    "def unique(a):\n",
    "    b = []\n",
    "    for c in a:\n",
    "        if c not in b:\n",
    "            b.append(c)\n",
    "    return b       \n",
    "\n",
    "print(unique(x))"
   ]
  },
  {
   "cell_type": "code",
   "execution_count": 20,
   "id": "9b41e7b3",
   "metadata": {
    "ExecuteTime": {
     "end_time": "2022-08-07T14:45:18.073121Z",
     "start_time": "2022-08-07T14:45:18.040142Z"
    }
   },
   "outputs": [
    {
     "name": "stdout",
     "output_type": "stream",
     "text": [
      "26\n",
      "40\n"
     ]
    }
   ],
   "source": [
    "#10\n",
    "\n",
    "a = lambda x : x+15\n",
    "print(a(11))\n",
    "\n",
    "#Bonus\n",
    "\n",
    "b = lambda x, y : x*y\n",
    "print(b(8, 5))"
   ]
  }
 ],
 "metadata": {
  "kernelspec": {
   "display_name": "Python 3",
   "language": "python",
   "name": "python3"
  },
  "language_info": {
   "codemirror_mode": {
    "name": "ipython",
    "version": 3
   },
   "file_extension": ".py",
   "mimetype": "text/x-python",
   "name": "python",
   "nbconvert_exporter": "python",
   "pygments_lexer": "ipython3",
   "version": "3.8.8"
  }
 },
 "nbformat": 4,
 "nbformat_minor": 5
}
